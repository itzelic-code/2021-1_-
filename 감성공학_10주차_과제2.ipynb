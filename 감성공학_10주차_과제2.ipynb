{
  "nbformat": 4,
  "nbformat_minor": 0,
  "metadata": {
    "colab": {
      "provenance": []
    },
    "kernelspec": {
      "name": "python3",
      "display_name": "Python 3"
    },
    "language_info": {
      "name": "python"
    }
  },
  "cells": [
    {
      "cell_type": "markdown",
      "source": [
        "# 과제#2 딥러닝에 의한 이진 분류분석 사례 연구\n",
        "\n",
        "\n",
        "과제내용 : 주어진 'result.txt' 파일을 이용해 이진 분류분석을 10주차 실습과 유사하게 진행하되 딥러닝 워크플로 단계에 의한 순차적인 코딩 과정을 설명하면서 아래의 요구사항에 대한 설명을 포함하여 제출하세요.\n",
        "\n",
        "- 제출 기한 :  21년 11월 19일(금요일)한\n",
        "\n",
        "- 제출 내용 : '김강남.ipynb' : 텍스트 셀을 이용하여 아래 요구사항 내용 기술\n",
        "\n",
        "- 요구 사항\n",
        "\n",
        "1. '과제2.ipynb' 파일의 train, val, test 데이터 셋 기준으로 분류하여 데이터를 준비하세요.\n",
        "\n",
        "2. 모델링은 주어진 model.png 파일의 모습과 같이 하세요.\n",
        "\n",
        "3. 모델 평가결과 정확도 향상을 위해 추가적으로 노력해야할 사항은 어떤 것이 있는지 기술하세요.\n",
        "\n"
      ],
      "metadata": {
        "id": "BOCQoiN6vjS-"
      }
    },
    {
      "cell_type": "markdown",
      "metadata": {
        "id": "TdeZ9BMkGi41"
      },
      "source": [
        "#신경망 기초"
      ]
    },
    {
      "cell_type": "code",
      "metadata": {
        "id": "uzOJXNd5rarE"
      },
      "source": [
        "# lib import\n",
        "import tensorflow as tf\n",
        "from tensorflow import keras\n",
        "import numpy as np\n",
        "import pandas as pd\n",
        "import matplotlib.pyplot as plt\n",
        "from sklearn.model_selection import train_test_split"
      ],
      "execution_count": null,
      "outputs": []
    },
    {
      "cell_type": "markdown",
      "metadata": {
        "id": "-jwwaGZ3Gojk"
      },
      "source": [
        "#데이터 준비"
      ]
    },
    {
      "cell_type": "code",
      "metadata": {
        "colab": {
          "base_uri": "https://localhost:8080/"
        },
        "id": "1z6riq0erqY5",
        "outputId": "eb3527a6-c3d1-494d-bfa5-f404a2898f94"
      },
      "source": [
        "# google drive mount\n",
        "from google.colab import drive\n",
        "drive.mount('/content/drive')"
      ],
      "execution_count": null,
      "outputs": [
        {
          "output_type": "stream",
          "name": "stdout",
          "text": [
            "Mounted at /content/drive\n"
          ]
        }
      ]
    },
    {
      "cell_type": "markdown",
      "metadata": {
        "id": "yD6WMqq9fmv6"
      },
      "source": [
        "- result.txt 텍스트 파일에서 data를 읽어와 ,기호를 기준으로 y, x1, x2 값으로 구분하여 데이터프레임을 형성했다."
      ]
    },
    {
      "cell_type": "code",
      "metadata": {
        "colab": {
          "base_uri": "https://localhost:8080/",
          "height": 424
        },
        "id": "r_Rq6_NRzk7I",
        "outputId": "c0c2463f-fd89-4268-d66a-ac257ff6c4b6"
      },
      "source": [
        "# data 읽어오기 , 경로복사 붙여넣기\n",
        "data = '/content/drive/MyDrive/sentimental_analysis/result.txt'\n",
        "df = pd.read_csv(data, sep=',' )\n",
        "df.columns = [\"y\", 'x1', 'x2']\n",
        "df"
      ],
      "execution_count": null,
      "outputs": [
        {
          "output_type": "execute_result",
          "data": {
            "text/html": [
              "<div>\n",
              "<style scoped>\n",
              "    .dataframe tbody tr th:only-of-type {\n",
              "        vertical-align: middle;\n",
              "    }\n",
              "\n",
              "    .dataframe tbody tr th {\n",
              "        vertical-align: top;\n",
              "    }\n",
              "\n",
              "    .dataframe thead th {\n",
              "        text-align: right;\n",
              "    }\n",
              "</style>\n",
              "<table border=\"1\" class=\"dataframe\">\n",
              "  <thead>\n",
              "    <tr style=\"text-align: right;\">\n",
              "      <th></th>\n",
              "      <th>y</th>\n",
              "      <th>x1</th>\n",
              "      <th>x2</th>\n",
              "    </tr>\n",
              "  </thead>\n",
              "  <tbody>\n",
              "    <tr>\n",
              "      <th>0</th>\n",
              "      <td>0</td>\n",
              "      <td>380</td>\n",
              "      <td>3.61</td>\n",
              "    </tr>\n",
              "    <tr>\n",
              "      <th>1</th>\n",
              "      <td>1</td>\n",
              "      <td>660</td>\n",
              "      <td>3.67</td>\n",
              "    </tr>\n",
              "    <tr>\n",
              "      <th>2</th>\n",
              "      <td>1</td>\n",
              "      <td>800</td>\n",
              "      <td>4.00</td>\n",
              "    </tr>\n",
              "    <tr>\n",
              "      <th>3</th>\n",
              "      <td>1</td>\n",
              "      <td>640</td>\n",
              "      <td>3.19</td>\n",
              "    </tr>\n",
              "    <tr>\n",
              "      <th>4</th>\n",
              "      <td>0</td>\n",
              "      <td>520</td>\n",
              "      <td>2.93</td>\n",
              "    </tr>\n",
              "    <tr>\n",
              "      <th>...</th>\n",
              "      <td>...</td>\n",
              "      <td>...</td>\n",
              "      <td>...</td>\n",
              "    </tr>\n",
              "    <tr>\n",
              "      <th>395</th>\n",
              "      <td>1</td>\n",
              "      <td>620</td>\n",
              "      <td>4.00</td>\n",
              "    </tr>\n",
              "    <tr>\n",
              "      <th>396</th>\n",
              "      <td>1</td>\n",
              "      <td>560</td>\n",
              "      <td>3.04</td>\n",
              "    </tr>\n",
              "    <tr>\n",
              "      <th>397</th>\n",
              "      <td>0</td>\n",
              "      <td>460</td>\n",
              "      <td>2.63</td>\n",
              "    </tr>\n",
              "    <tr>\n",
              "      <th>398</th>\n",
              "      <td>1</td>\n",
              "      <td>700</td>\n",
              "      <td>3.65</td>\n",
              "    </tr>\n",
              "    <tr>\n",
              "      <th>399</th>\n",
              "      <td>1</td>\n",
              "      <td>600</td>\n",
              "      <td>3.89</td>\n",
              "    </tr>\n",
              "  </tbody>\n",
              "</table>\n",
              "<p>400 rows × 3 columns</p>\n",
              "</div>"
            ],
            "text/plain": [
              "     y   x1    x2\n",
              "0    0  380  3.61\n",
              "1    1  660  3.67\n",
              "2    1  800  4.00\n",
              "3    1  640  3.19\n",
              "4    0  520  2.93\n",
              "..  ..  ...   ...\n",
              "395  1  620  4.00\n",
              "396  1  560  3.04\n",
              "397  0  460  2.63\n",
              "398  1  700  3.65\n",
              "399  1  600  3.89\n",
              "\n",
              "[400 rows x 3 columns]"
            ]
          },
          "metadata": {},
          "execution_count": 4
        }
      ]
    },
    {
      "cell_type": "markdown",
      "metadata": {
        "id": "n8lIMvgSiKUx"
      },
      "source": []
    },
    {
      "cell_type": "code",
      "metadata": {
        "colab": {
          "base_uri": "https://localhost:8080/"
        },
        "id": "ZMVMDcJK0oz_",
        "outputId": "b9bcdc6b-efbb-48f7-ba33-f0a4001961bb"
      },
      "source": [
        "df['y'].value_counts()"
      ],
      "execution_count": null,
      "outputs": [
        {
          "output_type": "execute_result",
          "data": {
            "text/plain": [
              "1    287\n",
              "0    113\n",
              "Name: y, dtype: int64"
            ]
          },
          "metadata": {},
          "execution_count": 5
        }
      ]
    },
    {
      "cell_type": "markdown",
      "metadata": {
        "id": "oxKztLIkiw0B"
      },
      "source": [
        "- y값(0,1) 별로 0은 red, 1은 blue 색사응로 나타내서 x1, x2 값 별로 subplots에서 scatter 형태로 나타내었다."
      ]
    },
    {
      "cell_type": "code",
      "metadata": {
        "colab": {
          "base_uri": "https://localhost:8080/",
          "height": 265
        },
        "id": "g9XiBCPm0uug",
        "outputId": "623b72f6-619c-4305-eb92-7b328e3f6cf3"
      },
      "source": [
        "fig, ax = plt.subplots()\n",
        "colors = {0:'red', 1:'blue'}\n",
        "ax.scatter(df['x1'], df['x2'], c=df['y'].map(colors))\n",
        "plt.show()"
      ],
      "execution_count": null,
      "outputs": [
        {
          "output_type": "display_data",
          "data": {
            "image/png": "[encoded data removed]",
            "text/plain": [
              "<Figure size 432x288 with 1 Axes>"
            ]
          },
          "metadata": {
            "needs_background": "light"
          }
        }
      ]
    },
    {
      "cell_type": "markdown",
      "metadata": {
        "id": "4fLkXECoj0p2"
      },
      "source": [
        "- train_test_split() 함수를 이용하여 데이터 프레임을 train_df, test_df, val_df으로 나누어 형성하였다.\n",
        "test_size는 밑의 accuracy 값이 가장 높게 나오는 0.7로 하여 train_df의 사이즈는 0.3 비율이 되었다."
      ]
    },
    {
      "cell_type": "code",
      "metadata": {
        "colab": {
          "base_uri": "https://localhost:8080/"
        },
        "id": "5jjttj84AhEj",
        "outputId": "56cdc733-20a2-4c9d-e106-e88257aaf859"
      },
      "source": [
        "# test_size: 테스트 셋 구성의 비율\n",
        "# shuffle: default=True 입니다. split을 해주기 이전에 섞을건지 여부\n",
        "# stratify: default=None, stratify 값을 target으로 지정해주면 각각의 class 비율(ratio)을 train / validation에 유지\n",
        "# random_state: 세트를 섞을 때 해당 int 값을 보고 섞음, 하이퍼 파라미터를 튜닝시 이 값을 고정해두고 튜닝해야 매번 데이터셋이 변경되는 것을 방지\n",
        "\n",
        "train_df, test_df = train_test_split(df, test_size=0.7,random_state=123)\n",
        "train_df, val_df = train_test_split(train_df, test_size=0.7,random_state=123)\n",
        "len(train_df)"
      ],
      "execution_count": null,
      "outputs": [
        {
          "output_type": "execute_result",
          "data": {
            "text/plain": [
              "36"
            ]
          },
          "metadata": {},
          "execution_count": 336
        }
      ]
    },
    {
      "cell_type": "markdown",
      "metadata": {
        "id": "wE4yd2LomXOk"
      },
      "source": [
        "- train_df 값에 따른 히스토그램 분포를 볼 수 있다."
      ]
    },
    {
      "cell_type": "code",
      "metadata": {
        "colab": {
          "base_uri": "https://localhost:8080/",
          "height": 283
        },
        "id": "TaLWANeU0-EG",
        "outputId": "810cb70d-1739-45b0-d8f4-9f0a176f46dc"
      },
      "source": [
        "train_df['y'].hist()"
      ],
      "execution_count": null,
      "outputs": [
        {
          "output_type": "execute_result",
          "data": {
            "text/plain": [
              "<matplotlib.axes._subplots.AxesSubplot at 0x7f3af8379a10>"
            ]
          },
          "metadata": {},
          "execution_count": 338
        },
        {
          "output_type": "display_data",
          "data": {
            "image/png": "[encoded data removed]",
            "text/plain": [
              "<Figure size 432x288 with 1 Axes>"
            ]
          },
          "metadata": {
            "needs_background": "light"
          }
        }
      ]
    },
    {
      "cell_type": "code",
      "metadata": {
        "colab": {
          "base_uri": "https://localhost:8080/",
          "height": 112
        },
        "id": "yYPhmbz47fuU",
        "outputId": "5f5be7d3-d512-4b63-98ab-41a73d5b1994"
      },
      "source": [
        "train_df[:2]"
      ],
      "execution_count": null,
      "outputs": [
        {
          "output_type": "execute_result",
          "data": {
            "text/html": [
              "<div>\n",
              "<style scoped>\n",
              "    .dataframe tbody tr th:only-of-type {\n",
              "        vertical-align: middle;\n",
              "    }\n",
              "\n",
              "    .dataframe tbody tr th {\n",
              "        vertical-align: top;\n",
              "    }\n",
              "\n",
              "    .dataframe thead th {\n",
              "        text-align: right;\n",
              "    }\n",
              "</style>\n",
              "<table border=\"1\" class=\"dataframe\">\n",
              "  <thead>\n",
              "    <tr style=\"text-align: right;\">\n",
              "      <th></th>\n",
              "      <th>y</th>\n",
              "      <th>x1</th>\n",
              "      <th>x2</th>\n",
              "    </tr>\n",
              "  </thead>\n",
              "  <tbody>\n",
              "    <tr>\n",
              "      <th>119</th>\n",
              "      <td>0</td>\n",
              "      <td>340</td>\n",
              "      <td>2.92</td>\n",
              "    </tr>\n",
              "    <tr>\n",
              "      <th>312</th>\n",
              "      <td>1</td>\n",
              "      <td>660</td>\n",
              "      <td>3.77</td>\n",
              "    </tr>\n",
              "  </tbody>\n",
              "</table>\n",
              "</div>"
            ],
            "text/plain": [
              "     y   x1    x2\n",
              "119  0  340  2.92\n",
              "312  1  660  3.77"
            ]
          },
          "metadata": {},
          "execution_count": 321
        }
      ]
    },
    {
      "cell_type": "markdown",
      "metadata": {
        "id": "csMjRk5VGdvy"
      },
      "source": [
        "#모델링"
      ]
    },
    {
      "cell_type": "markdown",
      "metadata": {
        "id": "7a6xf-I8nC90"
      },
      "source": [
        "- 데이터프레임 중 y칼럼만 뽑아 입력데이터를 할당하여 정리하였다."
      ]
    },
    {
      "cell_type": "code",
      "metadata": {
        "colab": {
          "base_uri": "https://localhost:8080/",
          "height": 1000
        },
        "id": "709R8zHbGKt-",
        "outputId": "ea2ffb5f-77c5-466a-aa69-4c172d901743"
      },
      "source": [
        "# 입력데이터로 정리\n",
        "y_train = train_df.pop('y')\n",
        "x_train = train_df\n",
        "y_test = test_df.pop('y')\n",
        "x_test = test_df\n",
        "y_val = val_df.pop('y')\n",
        "x_val = val_df\n",
        "x_train"
      ],
      "execution_count": null,
      "outputs": [
        {
          "output_type": "execute_result",
          "data": {
            "text/html": [
              "<div>\n",
              "<style scoped>\n",
              "    .dataframe tbody tr th:only-of-type {\n",
              "        vertical-align: middle;\n",
              "    }\n",
              "\n",
              "    .dataframe tbody tr th {\n",
              "        vertical-align: top;\n",
              "    }\n",
              "\n",
              "    .dataframe thead th {\n",
              "        text-align: right;\n",
              "    }\n",
              "</style>\n",
              "<table border=\"1\" class=\"dataframe\">\n",
              "  <thead>\n",
              "    <tr style=\"text-align: right;\">\n",
              "      <th></th>\n",
              "      <th>x1</th>\n",
              "      <th>x2</th>\n",
              "    </tr>\n",
              "  </thead>\n",
              "  <tbody>\n",
              "    <tr>\n",
              "      <th>119</th>\n",
              "      <td>340</td>\n",
              "      <td>2.92</td>\n",
              "    </tr>\n",
              "    <tr>\n",
              "      <th>312</th>\n",
              "      <td>660</td>\n",
              "      <td>3.77</td>\n",
              "    </tr>\n",
              "    <tr>\n",
              "      <th>158</th>\n",
              "      <td>660</td>\n",
              "      <td>3.49</td>\n",
              "    </tr>\n",
              "    <tr>\n",
              "      <th>96</th>\n",
              "      <td>640</td>\n",
              "      <td>3.52</td>\n",
              "    </tr>\n",
              "    <tr>\n",
              "      <th>2</th>\n",
              "      <td>800</td>\n",
              "      <td>4.00</td>\n",
              "    </tr>\n",
              "    <tr>\n",
              "      <th>382</th>\n",
              "      <td>540</td>\n",
              "      <td>3.51</td>\n",
              "    </tr>\n",
              "    <tr>\n",
              "      <th>3</th>\n",
              "      <td>640</td>\n",
              "      <td>3.19</td>\n",
              "    </tr>\n",
              "    <tr>\n",
              "      <th>135</th>\n",
              "      <td>500</td>\n",
              "      <td>3.57</td>\n",
              "    </tr>\n",
              "    <tr>\n",
              "      <th>206</th>\n",
              "      <td>740</td>\n",
              "      <td>3.54</td>\n",
              "    </tr>\n",
              "    <tr>\n",
              "      <th>314</th>\n",
              "      <td>540</td>\n",
              "      <td>3.46</td>\n",
              "    </tr>\n",
              "    <tr>\n",
              "      <th>255</th>\n",
              "      <td>640</td>\n",
              "      <td>3.35</td>\n",
              "    </tr>\n",
              "    <tr>\n",
              "      <th>25</th>\n",
              "      <td>800</td>\n",
              "      <td>3.66</td>\n",
              "    </tr>\n",
              "    <tr>\n",
              "      <th>331</th>\n",
              "      <td>660</td>\n",
              "      <td>3.59</td>\n",
              "    </tr>\n",
              "    <tr>\n",
              "      <th>180</th>\n",
              "      <td>620</td>\n",
              "      <td>3.78</td>\n",
              "    </tr>\n",
              "    <tr>\n",
              "      <th>73</th>\n",
              "      <td>580</td>\n",
              "      <td>4.00</td>\n",
              "    </tr>\n",
              "    <tr>\n",
              "      <th>149</th>\n",
              "      <td>740</td>\n",
              "      <td>3.31</td>\n",
              "    </tr>\n",
              "    <tr>\n",
              "      <th>353</th>\n",
              "      <td>700</td>\n",
              "      <td>3.52</td>\n",
              "    </tr>\n",
              "    <tr>\n",
              "      <th>83</th>\n",
              "      <td>380</td>\n",
              "      <td>2.91</td>\n",
              "    </tr>\n",
              "    <tr>\n",
              "      <th>140</th>\n",
              "      <td>640</td>\n",
              "      <td>3.93</td>\n",
              "    </tr>\n",
              "    <tr>\n",
              "      <th>225</th>\n",
              "      <td>720</td>\n",
              "      <td>3.50</td>\n",
              "    </tr>\n",
              "    <tr>\n",
              "      <th>268</th>\n",
              "      <td>680</td>\n",
              "      <td>3.46</td>\n",
              "    </tr>\n",
              "    <tr>\n",
              "      <th>243</th>\n",
              "      <td>620</td>\n",
              "      <td>3.22</td>\n",
              "    </tr>\n",
              "    <tr>\n",
              "      <th>76</th>\n",
              "      <td>560</td>\n",
              "      <td>3.36</td>\n",
              "    </tr>\n",
              "    <tr>\n",
              "      <th>373</th>\n",
              "      <td>620</td>\n",
              "      <td>3.37</td>\n",
              "    </tr>\n",
              "    <tr>\n",
              "      <th>387</th>\n",
              "      <td>580</td>\n",
              "      <td>3.36</td>\n",
              "    </tr>\n",
              "    <tr>\n",
              "      <th>253</th>\n",
              "      <td>540</td>\n",
              "      <td>3.55</td>\n",
              "    </tr>\n",
              "    <tr>\n",
              "      <th>384</th>\n",
              "      <td>480</td>\n",
              "      <td>2.62</td>\n",
              "    </tr>\n",
              "    <tr>\n",
              "      <th>375</th>\n",
              "      <td>560</td>\n",
              "      <td>3.49</td>\n",
              "    </tr>\n",
              "    <tr>\n",
              "      <th>113</th>\n",
              "      <td>600</td>\n",
              "      <td>3.22</td>\n",
              "    </tr>\n",
              "    <tr>\n",
              "      <th>361</th>\n",
              "      <td>540</td>\n",
              "      <td>3.49</td>\n",
              "    </tr>\n",
              "    <tr>\n",
              "      <th>109</th>\n",
              "      <td>480</td>\n",
              "      <td>3.45</td>\n",
              "    </tr>\n",
              "    <tr>\n",
              "      <th>32</th>\n",
              "      <td>600</td>\n",
              "      <td>3.40</td>\n",
              "    </tr>\n",
              "    <tr>\n",
              "      <th>334</th>\n",
              "      <td>460</td>\n",
              "      <td>3.64</td>\n",
              "    </tr>\n",
              "    <tr>\n",
              "      <th>311</th>\n",
              "      <td>660</td>\n",
              "      <td>3.67</td>\n",
              "    </tr>\n",
              "    <tr>\n",
              "      <th>278</th>\n",
              "      <td>680</td>\n",
              "      <td>3.00</td>\n",
              "    </tr>\n",
              "    <tr>\n",
              "      <th>214</th>\n",
              "      <td>600</td>\n",
              "      <td>3.56</td>\n",
              "    </tr>\n",
              "  </tbody>\n",
              "</table>\n",
              "</div>"
            ],
            "text/plain": [
              "      x1    x2\n",
              "119  340  2.92\n",
              "312  660  3.77\n",
              "158  660  3.49\n",
              "96   640  3.52\n",
              "2    800  4.00\n",
              "382  540  3.51\n",
              "3    640  3.19\n",
              "135  500  3.57\n",
              "206  740  3.54\n",
              "314  540  3.46\n",
              "255  640  3.35\n",
              "25   800  3.66\n",
              "331  660  3.59\n",
              "180  620  3.78\n",
              "73   580  4.00\n",
              "149  740  3.31\n",
              "353  700  3.52\n",
              "83   380  2.91\n",
              "140  640  3.93\n",
              "225  720  3.50\n",
              "268  680  3.46\n",
              "243  620  3.22\n",
              "76   560  3.36\n",
              "373  620  3.37\n",
              "387  580  3.36\n",
              "253  540  3.55\n",
              "384  480  2.62\n",
              "375  560  3.49\n",
              "113  600  3.22\n",
              "361  540  3.49\n",
              "109  480  3.45\n",
              "32   600  3.40\n",
              "334  460  3.64\n",
              "311  660  3.67\n",
              "278  680  3.00\n",
              "214  600  3.56"
            ]
          },
          "metadata": {},
          "execution_count": 322
        }
      ]
    },
    {
      "cell_type": "markdown",
      "metadata": {
        "id": "0NQRVVVXnd9h"
      },
      "source": [
        "- 피처의 수를 확인하였다"
      ]
    },
    {
      "cell_type": "code",
      "metadata": {
        "colab": {
          "base_uri": "https://localhost:8080/"
        },
        "id": "Gh3FqNc1G0FZ",
        "outputId": "543bfcd2-600a-4107-9c65-316d7471edd6"
      },
      "source": [
        "# input_shape, 입력변수의 개수 확인\n",
        "train_features = np.array(train_df)\n",
        "train_features.shape[-1]"
      ],
      "execution_count": null,
      "outputs": [
        {
          "output_type": "execute_result",
          "data": {
            "text/plain": [
              "2"
            ]
          },
          "metadata": {},
          "execution_count": 323
        }
      ]
    },
    {
      "cell_type": "markdown",
      "metadata": {
        "id": "rxBKgTtJnjl4"
      },
      "source": [
        "- keras.models.Sequential() 함수를 이용해 모델의 레이어를 선형으로 순차적으로 쌓아 sequential 모델을 만들었다.\n",
        "*activation은 활성화 인수\n",
        "overfitting을 방지하기 위해 Dropout(0.5) 사용\n",
        "마지막의 활성화 인수에  0에서 1의 값을 갖는 sigmold를 사용하였다.\n",
        "- 옵티마이저는 adam으로, 손실함수는 binary_crossentropy를 사용하였다."
      ]
    },
    {
      "cell_type": "code",
      "metadata": {
        "id": "iz54EhxpHK6Q"
      },
      "source": [
        "# 다층의 layer를 쌓아서 모델링, 훈련에 사용할 옵티마이저(optimizer)와 손실 함수를 선택\n",
        "model = keras.models.Sequential()\n",
        "model.add(keras.layers.Dense(8, activation='relu', input_shape=(train_features.shape[-1],)))\n",
        "model.add(keras.layers.Dense(8, activation='relu'))\n",
        "model.add(keras.layers.Dropout(0.5))\n",
        "model.add(keras.layers.Dense(1, activation='sigmoid'))\n",
        "\n",
        "model.compile(optimizer='adam',\n",
        "              loss='binary_crossentropy',\n",
        "              metrics=['accuracy'])"
      ],
      "execution_count": null,
      "outputs": []
    },
    {
      "cell_type": "markdown",
      "metadata": {
        "id": "81IoUEySpR9F"
      },
      "source": [
        "- 모델을 summary하여 보았다.\n",
        "해당 모델에서는 321개의 값을 추정하였다."
      ]
    },
    {
      "cell_type": "code",
      "metadata": {
        "colab": {
          "base_uri": "https://localhost:8080/"
        },
        "id": "-L55ueMcHNZB",
        "outputId": "5ccf15bd-5c0a-4c4b-e1f0-6f4fe8094018"
      },
      "source": [
        "#모델 요약해서 보기\n",
        "model.summary()"
      ],
      "execution_count": null,
      "outputs": [
        {
          "output_type": "stream",
          "name": "stdout",
          "text": [
            "Model: \"sequential_32\"\n",
            "_________________________________________________________________\n",
            " Layer (type)                Output Shape              Param #   \n",
            "=================================================================\n",
            " dense_96 (Dense)            (None, 8)                 24        \n",
            "                                                                 \n",
            " dense_97 (Dense)            (None, 8)                 72        \n",
            "                                                                 \n",
            " dropout_32 (Dropout)        (None, 8)                 0         \n",
            "                                                                 \n",
            " dense_98 (Dense)            (None, 1)                 9         \n",
            "                                                                 \n",
            "=================================================================\n",
            "Total params: 105\n",
            "Trainable params: 105\n",
            "Non-trainable params: 0\n",
            "_________________________________________________________________\n"
          ]
        }
      ]
    },
    {
      "cell_type": "markdown",
      "metadata": {
        "id": "BrXLGX-qpjTY"
      },
      "source": [
        "- x값 1개를 처리한 뒤 16개로 증폭시켜 8 x 8의 히든 레이어로 확장 시켜 dropout 단계를 거쳐 출력까지의 다중 레이어 구성을 볼 수 있다."
      ]
    },
    {
      "cell_type": "code",
      "metadata": {
        "colab": {
          "base_uri": "https://localhost:8080/",
          "height": 533
        },
        "id": "XTsmjnUCHPlu",
        "outputId": "4ddc886f-9a36-40a7-e762-277787336f19"
      },
      "source": [
        "tf.keras.utils.plot_model(model, 'model.png', show_shapes=True)"
      ],
      "execution_count": null,
      "outputs": [
        {
          "output_type": "execute_result",
          "data": {
            "image/png": "[encoded data removed]",
            "text/plain": [
              "<IPython.core.display.Image object>"
            ]
          },
          "metadata": {},
          "execution_count": 326
        }
      ]
    },
    {
      "cell_type": "markdown",
      "metadata": {
        "id": "zd2WCDUVHb27"
      },
      "source": [
        "#Training"
      ]
    },
    {
      "cell_type": "markdown",
      "metadata": {
        "id": "SFeyCGVkqAIv"
      },
      "source": [
        "-  세부사항을 설정하여 모델을 model.hdf5로 저장하였다."
      ]
    },
    {
      "cell_type": "code",
      "metadata": {
        "id": "adC68ncKHarb"
      },
      "source": [
        "# 모델 저장 설정\n",
        "save_weights = tf.keras.callbacks.ModelCheckpoint(\"model.hdf5\",\n",
        "                                                  monitor='val_accuracy',\n",
        "                                                  verbose=1,\n",
        "                                                  save_best_only=True,\n",
        "                                                  mode=\"max\",\n",
        "                                                  save_freq=\"epoch\",\n",
        "                                                  save_weights_only=True)"
      ],
      "execution_count": null,
      "outputs": []
    },
    {
      "cell_type": "markdown",
      "metadata": {
        "id": "AbHVJ95XqKKh"
      },
      "source": [
        "- 해당 모델에서 학습에 필요한 데이터를 입력 후 model.fit()하였다. 40번의 학습과 batch_size = 156 그리고 weight 저장."
      ]
    },
    {
      "cell_type": "code",
      "metadata": {
        "colab": {
          "base_uri": "https://localhost:8080/"
        },
        "id": "6ltWMhyuHfkI",
        "outputId": "1c35cea8-3371-4baf-be84-53fb896840a6"
      },
      "source": [
        "# 모델 학습 및 필요 데이터 저장\n",
        "history = model.fit(x_train, y_train, validation_data=(x_val, y_val) ,\n",
        "                    epochs=40,\n",
        "                    batch_size=256,\n",
        "                    callbacks=[save_weights])"
      ],
      "execution_count": null,
      "outputs": [
        {
          "output_type": "stream",
          "name": "stdout",
          "text": [
            "Epoch 1/40\n",
            "1/1 [==============================] - ETA: 0s - loss: 21.2815 - accuracy: 0.6944\n",
            "Epoch 00001: val_accuracy did not improve from 0.66667\n",
            "1/1 [==============================] - 0s 67ms/step - loss: 21.2815 - accuracy: 0.6944 - val_loss: 36.6522 - val_accuracy: 0.6667\n",
            "Epoch 2/40\n",
            "1/1 [==============================] - ETA: 0s - loss: 14.2387 - accuracy: 0.8611\n",
            "Epoch 00002: val_accuracy did not improve from 0.66667\n",
            "1/1 [==============================] - 0s 25ms/step - loss: 14.2387 - accuracy: 0.8611 - val_loss: 36.3893 - val_accuracy: 0.6667\n",
            "Epoch 3/40\n",
            "1/1 [==============================] - ETA: 0s - loss: 14.8162 - accuracy: 0.8056\n",
            "Epoch 00003: val_accuracy did not improve from 0.66667\n",
            "1/1 [==============================] - 0s 29ms/step - loss: 14.8162 - accuracy: 0.8056 - val_loss: 36.1314 - val_accuracy: 0.6667\n",
            "Epoch 4/40\n",
            "1/1 [==============================] - ETA: 0s - loss: 13.6733 - accuracy: 0.7222\n",
            "Epoch 00004: val_accuracy did not improve from 0.66667\n",
            "1/1 [==============================] - 0s 26ms/step - loss: 13.6733 - accuracy: 0.7222 - val_loss: 35.8691 - val_accuracy: 0.6667\n",
            "Epoch 5/40\n",
            "1/1 [==============================] - ETA: 0s - loss: 11.1330 - accuracy: 0.8333\n",
            "Epoch 00005: val_accuracy did not improve from 0.66667\n",
            "1/1 [==============================] - 0s 29ms/step - loss: 11.1330 - accuracy: 0.8333 - val_loss: 35.6102 - val_accuracy: 0.6667\n",
            "Epoch 6/40\n",
            "1/1 [==============================] - ETA: 0s - loss: 14.8353 - accuracy: 0.7222\n",
            "Epoch 00006: val_accuracy did not improve from 0.66667\n",
            "1/1 [==============================] - 0s 28ms/step - loss: 14.8353 - accuracy: 0.7222 - val_loss: 35.3500 - val_accuracy: 0.6667\n",
            "Epoch 7/40\n",
            "1/1 [==============================] - ETA: 0s - loss: 18.5887 - accuracy: 0.7500\n",
            "Epoch 00007: val_accuracy did not improve from 0.66667\n",
            "1/1 [==============================] - 0s 27ms/step - loss: 18.5887 - accuracy: 0.7500 - val_loss: 35.0873 - val_accuracy: 0.6667\n",
            "Epoch 8/40\n",
            "1/1 [==============================] - ETA: 0s - loss: 10.8856 - accuracy: 0.8056\n",
            "Epoch 00008: val_accuracy did not improve from 0.66667\n",
            "1/1 [==============================] - 0s 27ms/step - loss: 10.8856 - accuracy: 0.8056 - val_loss: 34.8300 - val_accuracy: 0.6667\n",
            "Epoch 9/40\n",
            "1/1 [==============================] - ETA: 0s - loss: 12.5692 - accuracy: 0.8056\n",
            "Epoch 00009: val_accuracy did not improve from 0.66667\n",
            "1/1 [==============================] - 0s 28ms/step - loss: 12.5692 - accuracy: 0.8056 - val_loss: 34.5682 - val_accuracy: 0.6667\n",
            "Epoch 10/40\n",
            "1/1 [==============================] - ETA: 0s - loss: 9.3239 - accuracy: 0.8333\n",
            "Epoch 00010: val_accuracy did not improve from 0.66667\n",
            "1/1 [==============================] - 0s 32ms/step - loss: 9.3239 - accuracy: 0.8333 - val_loss: 34.3047 - val_accuracy: 0.6667\n",
            "Epoch 11/40\n",
            "1/1 [==============================] - ETA: 0s - loss: 16.5614 - accuracy: 0.6667\n",
            "Epoch 00011: val_accuracy did not improve from 0.66667\n",
            "1/1 [==============================] - 0s 29ms/step - loss: 16.5614 - accuracy: 0.6667 - val_loss: 34.0500 - val_accuracy: 0.6667\n",
            "Epoch 12/40\n",
            "1/1 [==============================] - ETA: 0s - loss: 11.8272 - accuracy: 0.7778\n",
            "Epoch 00012: val_accuracy did not improve from 0.66667\n",
            "1/1 [==============================] - 0s 41ms/step - loss: 11.8272 - accuracy: 0.7778 - val_loss: 33.8155 - val_accuracy: 0.6667\n",
            "Epoch 13/40\n",
            "1/1 [==============================] - ETA: 0s - loss: 19.2376 - accuracy: 0.8056\n",
            "Epoch 00013: val_accuracy did not improve from 0.66667\n",
            "1/1 [==============================] - 0s 30ms/step - loss: 19.2376 - accuracy: 0.8056 - val_loss: 33.5766 - val_accuracy: 0.6667\n",
            "Epoch 14/40\n",
            "1/1 [==============================] - ETA: 0s - loss: 11.1787 - accuracy: 0.7500\n",
            "Epoch 00014: val_accuracy did not improve from 0.66667\n",
            "1/1 [==============================] - 0s 28ms/step - loss: 11.1787 - accuracy: 0.7500 - val_loss: 33.3452 - val_accuracy: 0.6667\n",
            "Epoch 15/40\n",
            "1/1 [==============================] - ETA: 0s - loss: 18.8518 - accuracy: 0.7778\n",
            "Epoch 00015: val_accuracy did not improve from 0.66667\n",
            "1/1 [==============================] - 0s 28ms/step - loss: 18.8518 - accuracy: 0.7778 - val_loss: 33.1076 - val_accuracy: 0.6667\n",
            "Epoch 16/40\n",
            "1/1 [==============================] - ETA: 0s - loss: 15.0123 - accuracy: 0.6944\n",
            "Epoch 00016: val_accuracy did not improve from 0.66667\n",
            "1/1 [==============================] - 0s 30ms/step - loss: 15.0123 - accuracy: 0.6944 - val_loss: 32.8905 - val_accuracy: 0.6667\n",
            "Epoch 17/40\n",
            "1/1 [==============================] - ETA: 0s - loss: 20.3918 - accuracy: 0.7222\n",
            "Epoch 00017: val_accuracy did not improve from 0.66667\n",
            "1/1 [==============================] - 0s 27ms/step - loss: 20.3918 - accuracy: 0.7222 - val_loss: 32.6405 - val_accuracy: 0.6667\n",
            "Epoch 18/40\n",
            "1/1 [==============================] - ETA: 0s - loss: 8.1481 - accuracy: 0.8611\n",
            "Epoch 00018: val_accuracy did not improve from 0.66667\n",
            "1/1 [==============================] - 0s 30ms/step - loss: 8.1481 - accuracy: 0.8611 - val_loss: 32.3990 - val_accuracy: 0.6667\n",
            "Epoch 19/40\n",
            "1/1 [==============================] - ETA: 0s - loss: 20.8415 - accuracy: 0.7222\n",
            "Epoch 00019: val_accuracy did not improve from 0.66667\n",
            "1/1 [==============================] - 0s 30ms/step - loss: 20.8415 - accuracy: 0.7222 - val_loss: 32.1352 - val_accuracy: 0.6667\n",
            "Epoch 20/40\n",
            "1/1 [==============================] - ETA: 0s - loss: 13.3036 - accuracy: 0.7778\n",
            "Epoch 00020: val_accuracy did not improve from 0.66667\n",
            "1/1 [==============================] - 0s 28ms/step - loss: 13.3036 - accuracy: 0.7778 - val_loss: 31.8761 - val_accuracy: 0.6667\n",
            "Epoch 21/40\n",
            "1/1 [==============================] - ETA: 0s - loss: 21.6150 - accuracy: 0.7778\n",
            "Epoch 00021: val_accuracy did not improve from 0.66667\n",
            "1/1 [==============================] - 0s 30ms/step - loss: 21.6150 - accuracy: 0.7778 - val_loss: 31.5907 - val_accuracy: 0.6667\n",
            "Epoch 22/40\n",
            "1/1 [==============================] - ETA: 0s - loss: 11.7275 - accuracy: 0.8611\n",
            "Epoch 00022: val_accuracy did not improve from 0.66667\n",
            "1/1 [==============================] - 0s 33ms/step - loss: 11.7275 - accuracy: 0.8611 - val_loss: 31.2985 - val_accuracy: 0.6667\n",
            "Epoch 23/40\n",
            "1/1 [==============================] - ETA: 0s - loss: 13.6673 - accuracy: 0.8056\n",
            "Epoch 00023: val_accuracy did not improve from 0.66667\n",
            "1/1 [==============================] - 0s 31ms/step - loss: 13.6673 - accuracy: 0.8056 - val_loss: 31.0054 - val_accuracy: 0.6667\n",
            "Epoch 24/40\n",
            "1/1 [==============================] - ETA: 0s - loss: 9.9094 - accuracy: 0.8333\n",
            "Epoch 00024: val_accuracy did not improve from 0.66667\n",
            "1/1 [==============================] - 0s 39ms/step - loss: 9.9094 - accuracy: 0.8333 - val_loss: 30.7077 - val_accuracy: 0.6667\n",
            "Epoch 25/40\n",
            "1/1 [==============================] - ETA: 0s - loss: 11.0214 - accuracy: 0.7500\n",
            "Epoch 00025: val_accuracy did not improve from 0.66667\n",
            "1/1 [==============================] - 0s 30ms/step - loss: 11.0214 - accuracy: 0.7500 - val_loss: 30.4249 - val_accuracy: 0.6667\n",
            "Epoch 26/40\n",
            "1/1 [==============================] - ETA: 0s - loss: 16.7969 - accuracy: 0.8333\n",
            "Epoch 00026: val_accuracy did not improve from 0.66667\n",
            "1/1 [==============================] - 0s 61ms/step - loss: 16.7969 - accuracy: 0.8333 - val_loss: 30.1278 - val_accuracy: 0.6667\n",
            "Epoch 27/40\n",
            "1/1 [==============================] - ETA: 0s - loss: 11.2612 - accuracy: 0.7222\n",
            "Epoch 00027: val_accuracy did not improve from 0.66667\n",
            "1/1 [==============================] - 0s 37ms/step - loss: 11.2612 - accuracy: 0.7222 - val_loss: 29.8376 - val_accuracy: 0.6667\n",
            "Epoch 28/40\n",
            "1/1 [==============================] - ETA: 0s - loss: 18.1931 - accuracy: 0.7778\n",
            "Epoch 00028: val_accuracy did not improve from 0.66667\n",
            "1/1 [==============================] - 0s 35ms/step - loss: 18.1931 - accuracy: 0.7778 - val_loss: 29.5405 - val_accuracy: 0.6667\n",
            "Epoch 29/40\n",
            "1/1 [==============================] - ETA: 0s - loss: 9.0677 - accuracy: 0.7222\n",
            "Epoch 00029: val_accuracy did not improve from 0.66667\n",
            "1/1 [==============================] - 0s 34ms/step - loss: 9.0677 - accuracy: 0.7222 - val_loss: 29.2747 - val_accuracy: 0.6667\n",
            "Epoch 30/40\n",
            "1/1 [==============================] - ETA: 0s - loss: 8.1573 - accuracy: 0.8056\n",
            "Epoch 00030: val_accuracy did not improve from 0.66667\n",
            "1/1 [==============================] - 0s 32ms/step - loss: 8.1573 - accuracy: 0.8056 - val_loss: 29.0184 - val_accuracy: 0.6667\n",
            "Epoch 31/40\n",
            "1/1 [==============================] - ETA: 0s - loss: 14.2895 - accuracy: 0.7222\n",
            "Epoch 00031: val_accuracy did not improve from 0.66667\n",
            "1/1 [==============================] - 0s 27ms/step - loss: 14.2895 - accuracy: 0.7222 - val_loss: 28.7581 - val_accuracy: 0.6667\n",
            "Epoch 32/40\n",
            "1/1 [==============================] - ETA: 0s - loss: 14.9287 - accuracy: 0.7222\n",
            "Epoch 00032: val_accuracy did not improve from 0.66667\n",
            "1/1 [==============================] - 0s 30ms/step - loss: 14.9287 - accuracy: 0.7222 - val_loss: 28.4921 - val_accuracy: 0.6667\n",
            "Epoch 33/40\n",
            "1/1 [==============================] - ETA: 0s - loss: 11.4289 - accuracy: 0.8333\n",
            "Epoch 00033: val_accuracy did not improve from 0.66667\n",
            "1/1 [==============================] - 0s 32ms/step - loss: 11.4289 - accuracy: 0.8333 - val_loss: 28.2099 - val_accuracy: 0.6667\n",
            "Epoch 34/40\n",
            "1/1 [==============================] - ETA: 0s - loss: 15.1323 - accuracy: 0.8333\n",
            "Epoch 00034: val_accuracy did not improve from 0.66667\n",
            "1/1 [==============================] - 0s 34ms/step - loss: 15.1323 - accuracy: 0.8333 - val_loss: 27.9208 - val_accuracy: 0.6667\n",
            "Epoch 35/40\n",
            "1/1 [==============================] - ETA: 0s - loss: 14.9392 - accuracy: 0.8611\n",
            "Epoch 00035: val_accuracy did not improve from 0.66667\n",
            "1/1 [==============================] - 0s 27ms/step - loss: 14.9392 - accuracy: 0.8611 - val_loss: 27.6188 - val_accuracy: 0.6667\n",
            "Epoch 36/40\n",
            "1/1 [==============================] - ETA: 0s - loss: 17.4532 - accuracy: 0.7500\n",
            "Epoch 00036: val_accuracy did not improve from 0.66667\n",
            "1/1 [==============================] - 0s 31ms/step - loss: 17.4532 - accuracy: 0.7500 - val_loss: 27.3226 - val_accuracy: 0.6667\n",
            "Epoch 37/40\n",
            "1/1 [==============================] - ETA: 0s - loss: 12.2722 - accuracy: 0.8056\n",
            "Epoch 00037: val_accuracy did not improve from 0.66667\n",
            "1/1 [==============================] - 0s 30ms/step - loss: 12.2722 - accuracy: 0.8056 - val_loss: 27.0264 - val_accuracy: 0.6667\n",
            "Epoch 38/40\n",
            "1/1 [==============================] - ETA: 0s - loss: 14.5840 - accuracy: 0.6944\n",
            "Epoch 00038: val_accuracy did not improve from 0.66667\n",
            "1/1 [==============================] - 0s 32ms/step - loss: 14.5840 - accuracy: 0.6944 - val_loss: 26.7487 - val_accuracy: 0.6667\n",
            "Epoch 39/40\n",
            "1/1 [==============================] - ETA: 0s - loss: 7.6358 - accuracy: 0.6944\n",
            "Epoch 00039: val_accuracy did not improve from 0.66667\n",
            "1/1 [==============================] - 0s 40ms/step - loss: 7.6358 - accuracy: 0.6944 - val_loss: 26.4809 - val_accuracy: 0.6667\n",
            "Epoch 40/40\n",
            "1/1 [==============================] - ETA: 0s - loss: 10.6725 - accuracy: 0.7778\n",
            "Epoch 00040: val_accuracy did not improve from 0.66667\n",
            "1/1 [==============================] - 0s 29ms/step - loss: 10.6725 - accuracy: 0.7778 - val_loss: 26.2333 - val_accuracy: 0.6667\n"
          ]
        }
      ]
    },
    {
      "cell_type": "markdown",
      "metadata": {
        "id": "b891yO-JHlST"
      },
      "source": [
        "#평가"
      ]
    },
    {
      "cell_type": "markdown",
      "metadata": {
        "id": "_w96N12LrQ8r"
      },
      "source": [
        "- 모델의 데이터 프레임을 넣어 손실과 정확도를 평가한다"
      ]
    },
    {
      "cell_type": "code",
      "metadata": {
        "colab": {
          "base_uri": "https://localhost:8080/"
        },
        "id": "dcNSbVQHHmhE",
        "outputId": "c8fcddea-72c5-4afd-aa42-9c3d86b6acac"
      },
      "source": [
        "# 훈련된 이미지 분류기는 이 데이터셋에서 거의 99.9%의 정확도를 달성\n",
        "# 정확도(accuracy)는 전체 샘플 중 맞게 예측한 샘플 수의 비율을 뜻한다.\n",
        "# 높을수록 좋은 모형이다. 일반적으로 학습에서 최적화 목적함수로 사용된다.\n",
        "loss, accuracy = model.evaluate(x_test,  y_test, verbose=2)\n",
        "print(\"Loss: \", loss)\n",
        "print(\"Accuracy: \", accuracy)"
      ],
      "execution_count": null,
      "outputs": [
        {
          "output_type": "stream",
          "name": "stdout",
          "text": [
            "9/9 - 0s - loss: 22.9643 - accuracy: 0.7143 - 26ms/epoch - 3ms/step\n",
            "Loss:  22.964250564575195\n",
            "Accuracy:  0.7142857313156128\n"
          ]
        }
      ]
    },
    {
      "cell_type": "code",
      "metadata": {
        "colab": {
          "base_uri": "https://localhost:8080/"
        },
        "id": "9oqlnX3sHpTn",
        "outputId": "04028bf5-f542-4e61-e5f0-e0373fe1ddae"
      },
      "source": [
        "# 학습간 저장된 데이터 확인\n",
        "history_dict = history.history\n",
        "history_dict.keys()"
      ],
      "execution_count": null,
      "outputs": [
        {
          "output_type": "execute_result",
          "data": {
            "text/plain": [
              "dict_keys(['loss', 'accuracy', 'val_loss', 'val_accuracy'])"
            ]
          },
          "metadata": {},
          "execution_count": 355
        }
      ]
    },
    {
      "cell_type": "markdown",
      "metadata": {
        "id": "qQkCpDPprhne"
      },
      "source": [
        "val_accuracy와 val_loss를 이용한 시각화로 평가하였다. 형태가 완만하지 않지만 감소하는 방향을 볼 수 있다."
      ]
    },
    {
      "cell_type": "code",
      "metadata": {
        "colab": {
          "base_uri": "https://localhost:8080/",
          "height": 295
        },
        "id": "KoR8CGLEH7mK",
        "outputId": "631d0047-cdd4-4369-b050-55aa8dd5f3a6"
      },
      "source": [
        "# 손실과 정확도 도식\n",
        "acc = history_dict['accuracy']\n",
        "val_acc = history_dict['val_accuracy']\n",
        "loss = history_dict['loss']\n",
        "val_loss = history_dict['val_loss']\n",
        "\n",
        "epochs = range(1, len(acc) + 1)\n",
        "\n",
        "# \"bo\" is for \"blue dot\"\n",
        "plt.plot(epochs, loss, 'bo', label='Training loss')\n",
        "# b is for \"solid blue line\"\n",
        "plt.plot(epochs, val_loss, 'b', label='Validation loss')\n",
        "plt.title('Training and validation loss')\n",
        "plt.xlabel('Epochs')\n",
        "plt.ylabel('Loss')\n",
        "plt.legend()\n",
        "\n",
        "plt.show()"
      ],
      "execution_count": null,
      "outputs": [
        {
          "output_type": "display_data",
          "data": {
            "image/png": "[encoded data removed]",
            "text/plain": [
              "<Figure size 432x288 with 1 Axes>"
            ]
          },
          "metadata": {
            "needs_background": "light"
          }
        }
      ]
    },
    {
      "cell_type": "markdown",
      "metadata": {
        "id": "0EBe8LVLr2aY"
      },
      "source": [
        "손실과 정확도에서 확실한 값을 보지 못해서인지 DOT PLOT에서 값의 방향을 알아보기 힘들었다."
      ]
    },
    {
      "cell_type": "code",
      "metadata": {
        "id": "JuHvtUzJIBE4",
        "colab": {
          "base_uri": "https://localhost:8080/",
          "height": 295
        },
        "outputId": "74ca76ce-b7a7-4034-ba82-31a8c2c6fdac"
      },
      "source": [
        "plt.plot(epochs, acc, 'bo', label='Training acc')\n",
        "plt.plot(epochs, val_acc, 'b', label='Validation acc')\n",
        "plt.title('Training and validation accuracy')\n",
        "plt.xlabel('Epochs')\n",
        "plt.ylabel('Accuracy')\n",
        "plt.legend(loc='lower right')\n",
        "\n",
        "plt.show()"
      ],
      "execution_count": null,
      "outputs": [
        {
          "output_type": "display_data",
          "data": {
            "image/png": "[encoded data removed]",
            "text/plain": [
              "<Figure size 432x288 with 1 Axes>"
            ]
          },
          "metadata": {
            "needs_background": "light"
          }
        }
      ]
    },
    {
      "cell_type": "markdown",
      "metadata": {
        "id": "KYiApDbkr-a-"
      },
      "source": [
        "# 평가결과 정확도 향상을 위해\n",
        "\n",
        "*   초반에 train, test, val 데이터의 적절한 비율을 맞춰 할당할 필요가 있다.\n",
        "\n",
        "*   모델 학습 시에 적당한 batch_size를 설정해야 한다.\n",
        "\n",
        "*   레이어의 수를 증가시킬 수 있다.\n",
        "\n",
        "*   학습을 진행할 때 신경망의 전체 노드를 이용하는 것이 아니라 batch 사이즈 당 랜덤한 일부 노드만 사용할 수 있다.\n",
        "\n",
        "*   기존의 데이터셋을 편집하여 새로운 데이터셋을 만들어서 데이터의 절대량을 늘릴 수 있다\n",
        "\n",
        "*   다른 데이터로 미리 학습을 시켜놓고 우리가 사용하는 데이터로 다시 학습시킬 수 있다.\n",
        "\n",
        "\n",
        "\n",
        "\n",
        "\n"
      ]
    }
  ]
}